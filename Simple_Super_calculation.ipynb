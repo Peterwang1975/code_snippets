{
  "nbformat": 4,
  "nbformat_minor": 0,
  "metadata": {
    "colab": {
      "name": "SimpleSuper_calculation.ipynb",
      "provenance": [],
      "authorship_tag": "ABX9TyMXGyccjCL8a8qn0rcD3Zi4",
      "include_colab_link": true
    },
    "kernelspec": {
      "name": "python3",
      "display_name": "Python 3"
    },
    "language_info": {
      "name": "python"
    }
  },
  "cells": [
    {
      "cell_type": "markdown",
      "metadata": {
        "id": "view-in-github",
        "colab_type": "text"
      },
      "source": [
        "<a href=\"https://colab.research.google.com/github/Peterwang1975/code_snippets/blob/master/Simple_Super_calculation.ipynb\" target=\"_parent\"><img src=\"https://colab.research.google.com/assets/colab-badge.svg\" alt=\"Open In Colab\"/></a>"
      ]
    },
    {
      "cell_type": "code",
      "metadata": {
        "colab": {
          "base_uri": "https://localhost:8080/"
        },
        "id": "VDQQgRXelOSB",
        "outputId": "016286f3-e27a-44b1-f5ce-6fd3dd2203b0"
      },
      "source": [
        "total_fund = 106000\n",
        "yearly_contribution = 25000\n",
        "total_years = 19\n",
        "yearly_return = 0.07\n",
        "\n",
        "for y in range(total_years):\n",
        "  total_fund = total_fund * ( 1 + yearly_return) + yearly_contribution\n",
        "  print (f\"{y+1} year total fund is ${total_fund}.\")"
      ],
      "execution_count": null,
      "outputs": [
        {
          "output_type": "stream",
          "text": [
            "1 year total fund is $138420.0.\n",
            "2 year total fund is $173109.4.\n",
            "3 year total fund is $210227.058.\n",
            "4 year total fund is $249942.95206.\n",
            "5 year total fund is $292438.95870420005.\n",
            "6 year total fund is $337909.6858134941.\n",
            "7 year total fund is $386563.3638204387.\n",
            "8 year total fund is $438622.7992878694.\n",
            "9 year total fund is $494326.3952380203.\n",
            "10 year total fund is $553929.2429046817.\n",
            "11 year total fund is $617704.2899080095.\n",
            "12 year total fund is $685943.5902015702.\n",
            "13 year total fund is $758959.6415156801.\n",
            "14 year total fund is $837086.8164217778.\n",
            "15 year total fund is $920682.8935713023.\n",
            "16 year total fund is $1010130.6961212935.\n",
            "17 year total fund is $1105839.8448497842.\n",
            "18 year total fund is $1208248.6339892691.\n",
            "19 year total fund is $1317826.038368518.\n"
          ],
          "name": "stdout"
        }
      ]
    },
    {
      "cell_type": "code",
      "metadata": {
        "colab": {
          "base_uri": "https://localhost:8080/"
        },
        "id": "tTbvCHzKqROC",
        "outputId": "033a19e0-45d6-44ad-9a16-e29de02e3e20"
      },
      "source": [
        "total_fund = 290000\n",
        "yearly_contribution = 25000\n",
        "total_years = 14\n",
        "yearly_return = 0.07\n",
        "\n",
        "for y in range(total_years):\n",
        "  total_fund = total_fund * ( 1 + yearly_return) + yearly_contribution\n",
        "  print (f\"{y+1} year total fund is ${total_fund}.\")"
      ],
      "execution_count": null,
      "outputs": [
        {
          "output_type": "stream",
          "text": [
            "1 year total fund is $335300.0.\n",
            "2 year total fund is $383771.0.\n",
            "3 year total fund is $435634.97000000003.\n",
            "4 year total fund is $491129.41790000006.\n",
            "5 year total fund is $550508.4771530001.\n",
            "6 year total fund is $614044.0705537101.\n",
            "7 year total fund is $682027.1554924699.\n",
            "8 year total fund is $754769.0563769428.\n",
            "9 year total fund is $832602.8903233288.\n",
            "10 year total fund is $915885.0926459619.\n",
            "11 year total fund is $1004997.0491311793.\n",
            "12 year total fund is $1100346.842570362.\n",
            "13 year total fund is $1202371.1215502874.\n",
            "14 year total fund is $1311537.1000588075.\n"
          ],
          "name": "stdout"
        }
      ]
    }
  ]
}